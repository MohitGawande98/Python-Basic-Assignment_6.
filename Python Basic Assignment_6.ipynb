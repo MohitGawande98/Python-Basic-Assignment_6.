{
 "cells": [
  {
   "cell_type": "markdown",
   "metadata": {},
   "source": [
    "# Python Basic Assignment_6.\n"
   ]
  },
  {
   "cell_type": "raw",
   "metadata": {},
   "source": [
    "Q1. What are escape characters, and how do you use them?\n",
    "\n",
    "Answer:- In python \"\\\" is called as Backslash and also called as \"escape\" character. it is used in representing certain whitespace characters like \"\\t\" is a tab, \"\\n\" is a newline, and \"\\r\" is a carriage return."
   ]
  },
  {
   "cell_type": "raw",
   "metadata": {},
   "source": [
    "Q2. What do the escape characters n and t stand for?\n",
    "\n",
    "Answer:- The escape character \"\\n\" stand for new line and \"\\t\" stand for tab."
   ]
  },
  {
   "cell_type": "raw",
   "metadata": {},
   "source": [
    "Q3. What is the way to include backslash characters in a string?\n",
    "\n",
    "Answer:- The way is to include backlash characters in a string you have to write two backslashes \"\\\\\". \n",
    "    e.g. a=\"\\\\Mohit\"."
   ]
  },
  {
   "cell_type": "raw",
   "metadata": {},
   "source": [
    "Q4. The string \"HowI's Moving Castle\" is a correct value. Why isn't the single quote character in the\n",
    "word HowI's is not escaped a problem?\n",
    "\n",
    "Answer:- Because the string is covered with the doule quote and in there is single quote character in the HowI's word. if supposed the string is coverd with the single qote character that time word HowI's escaped or that will give output \"Invalid Syntax\"."
   ]
  },
  {
   "cell_type": "code",
   "execution_count": 7,
   "metadata": {},
   "outputs": [
    {
     "name": "stdout",
     "output_type": "stream",
     "text": [
      "HowI's Moving Castle\n"
     ]
    }
   ],
   "source": [
    "a=\"HowI's Moving Castle\"\n",
    "print(a)"
   ]
  },
  {
   "cell_type": "code",
   "execution_count": 9,
   "metadata": {},
   "outputs": [
    {
     "ename": "SyntaxError",
     "evalue": "invalid syntax (<ipython-input-9-3d85bf0a7644>, line 1)",
     "output_type": "error",
     "traceback": [
      "\u001b[1;36m  File \u001b[1;32m\"<ipython-input-9-3d85bf0a7644>\"\u001b[1;36m, line \u001b[1;32m1\u001b[0m\n\u001b[1;33m    b='HowI's Moving Castle'\u001b[0m\n\u001b[1;37m            ^\u001b[0m\n\u001b[1;31mSyntaxError\u001b[0m\u001b[1;31m:\u001b[0m invalid syntax\n"
     ]
    }
   ],
   "source": [
    "b='HowI's Moving Castle'\n",
    "print(b)"
   ]
  },
  {
   "cell_type": "raw",
   "metadata": {},
   "source": [
    "Q5. How do you write a string of newlines if you don't want to use the n character?\n",
    "\n",
    "Answers: We can write a string of newlines without using n character, with end=\"<Character>\". \"Character\" means character that will be used to separate the lines."
   ]
  },
  {
   "cell_type": "code",
   "execution_count": 16,
   "metadata": {},
   "outputs": [
    {
     "name": "stdout",
     "output_type": "stream",
     "text": [
      "My name is Mohit Gawande, I am from Nagpur.\n"
     ]
    }
   ],
   "source": [
    "#For example.\n",
    "print(\"My name is Mohit Gawande\",end=\", \")\n",
    "print(\"I am from Nagpur.\")"
   ]
  },
  {
   "cell_type": "raw",
   "metadata": {},
   "source": [
    "Q6. What are the values of the given expressions?\n",
    "       i) 'Hello,world!' [1]\n",
    "       ii) 'Hello,world!' [0:5]\n",
    "       iii) 'Hello,world!' [:5]\n",
    "       iv)  'Hello,world!' [3:]\n",
    "      \n",
    "Answer:- i)  'Hello,world!' [1]   ----> e\n",
    "         ii) 'Hello,world!' [0:5] ----> Hello\n",
    "         iii)'Hello,world!' [:5]  ----> Hello\n",
    "         iv) 'Hello,world!' [3:]  ----> lo,world!."
   ]
  },
  {
   "cell_type": "markdown",
   "metadata": {},
   "source": [
    "Q7. What are the values of the following expressions?\n",
    "       \n",
    "    i)  'Hello'.upper()\n",
    "    ii) 'Hello'.upper().isupper()\n",
    "    iii) 'Hello'.upper().islower()\n",
    "    \n",
    "Answer:- i)  'Hello'.upper()           ---> 'HELLO'\n",
    "         ii) 'Hello'.upper().isupper() ---> True\n",
    "         iii) 'Hello'.upper().islower()---> False.\n"
   ]
  },
  {
   "cell_type": "raw",
   "metadata": {},
   "source": [
    "Q8. What are the values of the following expressions?\n",
    "     \n",
    "     'Remember, remember, the fifth of july.'.split()'-'.join('There can only one.'.split())\n",
    "     \n",
    "Answer:-  'Remember, remember, the fifth of july.'.split() ---> ['Remember,', 'remember,', 'the', 'fifth', 'of', 'july.']"
   ]
  },
  {
   "cell_type": "raw",
   "metadata": {},
   "source": [
    "Q9. What are the methods for right-justifying, left-justifying, and centering a string?\n",
    "\n",
    "Answer:- The method is used for right-justifying is \"rjust()\", left-justifying is \"ljust()\", centering is \"center()\"."
   ]
  },
  {
   "cell_type": "raw",
   "metadata": {},
   "source": [
    "Q10. What is the best way to remove whitespace characters from the start or end?\n",
    "\n",
    "Answer:- The best way to remove whitespace characters from the start or end by using the \"strip()\" method."
   ]
  },
  {
   "cell_type": "code",
   "execution_count": null,
   "metadata": {},
   "outputs": [],
   "source": []
  }
 ],
 "metadata": {
  "kernelspec": {
   "display_name": "Python 3",
   "language": "python",
   "name": "python3"
  },
  "language_info": {
   "codemirror_mode": {
    "name": "ipython",
    "version": 3
   },
   "file_extension": ".py",
   "mimetype": "text/x-python",
   "name": "python",
   "nbconvert_exporter": "python",
   "pygments_lexer": "ipython3",
   "version": "3.7.1"
  }
 },
 "nbformat": 4,
 "nbformat_minor": 2
}
